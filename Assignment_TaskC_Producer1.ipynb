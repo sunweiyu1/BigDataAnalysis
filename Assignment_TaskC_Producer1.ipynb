{
 "cells": [
  {
   "cell_type": "code",
   "execution_count": 1,
   "metadata": {
    "scrolled": true
   },
   "outputs": [
    {
     "name": "stdout",
     "output_type": "stream",
     "text": [
      "[2019-05-24 23:31:59.267661] Waiting for a connection...\n",
      "Message published successfully. {'relative_humidity': 47.5, 'precipitation': '0.00I', 'longitude': 143.636, 'latitude': -36.341, 'air_temperature_celcius': 16, 'Senderid': 'climate', 'windspeed_knots': 5.4, 'Datetime': '2019-05-24T23:31:59', 'max_wind_speed': 12}\n",
      "Message published successfully. {'relative_humidity': 52.5, 'precipitation': '0.00I', 'longitude': 143.1847, 'latitude': -36.0005, 'air_temperature_celcius': 17, 'Senderid': 'climate', 'windspeed_knots': 7.7, 'Datetime': '2019-05-24T23:31:59', 'max_wind_speed': 16.9}\n"
     ]
    },
    {
     "ename": "KeyboardInterrupt",
     "evalue": "",
     "output_type": "error",
     "traceback": [
      "\u001b[0;31m---------------------------------------------------------------------------\u001b[0m",
      "\u001b[0;31mKeyboardInterrupt\u001b[0m                         Traceback (most recent call last)",
      "\u001b[0;32m<ipython-input-1-485026eee535>\u001b[0m in \u001b[0;36m<module>\u001b[0;34m()\u001b[0m\n\u001b[1;32m     80\u001b[0m         \u001b[0mdata\u001b[0m \u001b[0;34m=\u001b[0m \u001b[0mcollection\u001b[0m\u001b[0;34m[\u001b[0m\u001b[0mrandom\u001b[0m\u001b[0;34m.\u001b[0m\u001b[0mrandrange\u001b[0m\u001b[0;34m(\u001b[0m\u001b[0mlen\u001b[0m\u001b[0;34m(\u001b[0m\u001b[0mcollection\u001b[0m\u001b[0;34m)\u001b[0m\u001b[0;34m)\u001b[0m\u001b[0;34m]\u001b[0m\u001b[0;34m\u001b[0m\u001b[0m\n\u001b[1;32m     81\u001b[0m         \u001b[0mpublish_message\u001b[0m\u001b[0;34m(\u001b[0m\u001b[0mProducer1\u001b[0m\u001b[0;34m,\u001b[0m \u001b[0mtopic\u001b[0m\u001b[0;34m,\u001b[0m \u001b[0mdata\u001b[0m\u001b[0;34m)\u001b[0m\u001b[0;34m\u001b[0m\u001b[0m\n\u001b[0;32m---> 82\u001b[0;31m         \u001b[0mtime\u001b[0m\u001b[0;34m.\u001b[0m\u001b[0msleep\u001b[0m\u001b[0;34m(\u001b[0m\u001b[0;36m5\u001b[0m\u001b[0;34m)\u001b[0m\u001b[0;34m\u001b[0m\u001b[0m\n\u001b[0m",
      "\u001b[0;31mKeyboardInterrupt\u001b[0m: "
     ]
    }
   ],
   "source": [
    "# Import statements\n",
    "import socket\n",
    "import sys\n",
    "import time\n",
    "import random\n",
    "import datetime\n",
    "import csv\n",
    "from time import strftime\n",
    "from time import sleep\n",
    "from json import dumps\n",
    "from kafka import KafkaProducer\n",
    "\n",
    "\n",
    "def publish_message(producer_instance, topic_name, data):\n",
    "    try:\n",
    "        value_bytes = bytes(data, encoding='utf-8')\n",
    "        #print(value_bytes)\n",
    "        producer_instance.send(topic_name, value=value_bytes)\n",
    "        print('Message published successfully. ' + data)\n",
    "    except Exception as ex:\n",
    "        print('Exception in publishing message.')\n",
    "        print(str(ex))\n",
    "        \n",
    "def connect_kafka_producer():\n",
    "    _producer = None\n",
    "    try:\n",
    "        _producer = KafkaProducer(bootstrap_servers=['127.0.0.1:9092'],\n",
    "                                  api_version=(0, 10))\n",
    "    except Exception as ex:\n",
    "        print('Exception while connecting Kafka.')\n",
    "        print(str(ex))\n",
    "    finally:\n",
    "        return _producer\n",
    "    \n",
    "if __name__ == '__main__':\n",
    "   \n",
    "    topic = 'Producer1'\n",
    "    Producer1 = connect_kafka_producer()\n",
    "\n",
    "\n",
    "\n",
    "\n",
    "climate_streaming = csv.reader(open('climate_streaming.csv', \"r\"))\n",
    "climate_header = []\n",
    "collection = []\n",
    "data = \"\"\n",
    "is_header = True\n",
    "\n",
    "\n",
    "# Wait for a connection\n",
    "print('['+ str(datetime.datetime.now())+'] Waiting for a connection...')\n",
    "    \n",
    "\n",
    "while True:\n",
    "#transmissed data to consumer\n",
    "    \n",
    "        for row_climate in climate_streaming:\n",
    "            if is_header:# column title\n",
    "                    for i in range(len(row_climate)):\n",
    "                        climate_header.append(row_climate[i].strip())\n",
    "                    is_header = False\n",
    "                    continue\n",
    "            else:\n",
    "                record_climate = {}\n",
    "                date_time = datetime.datetime.now().strftime(\"%Y-%m-%dT%H:%M:%S\")\n",
    "                record_climate['Datetime'] = date_time\n",
    "                record_climate['Senderid'] = 'climate'\n",
    "                for i in range(len(row_climate)):\n",
    "                    try:\n",
    "                        record_climate[climate_header[i]] = int(row_climate[i].strip())\n",
    "                    except ValueError:\n",
    "                        try:\n",
    "                            record_climate[climate_header[i]] = float(row_climate[i].strip())\n",
    "                        except ValueError:\n",
    "                            record_climate[climate_header[i]] = row_climate[i].strip()\n",
    "                conn = str(record_climate)\n",
    "                collection.append(conn)\n",
    "\n",
    "\n",
    "        data = collection[random.randrange(len(collection))]\n",
    "        publish_message(Producer1, topic, data)\n",
    "        time.sleep(5)\n"
   ]
  },
  {
   "cell_type": "code",
   "execution_count": null,
   "metadata": {},
   "outputs": [],
   "source": []
  },
  {
   "cell_type": "code",
   "execution_count": null,
   "metadata": {},
   "outputs": [],
   "source": []
  }
 ],
 "metadata": {
  "kernelspec": {
   "display_name": "Python 3",
   "language": "python",
   "name": "python3"
  },
  "language_info": {
   "codemirror_mode": {
    "name": "ipython",
    "version": 3
   },
   "file_extension": ".py",
   "mimetype": "text/x-python",
   "name": "python",
   "nbconvert_exporter": "python",
   "pygments_lexer": "ipython3",
   "version": "3.5.2"
  }
 },
 "nbformat": 4,
 "nbformat_minor": 2
}
